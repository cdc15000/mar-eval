{
 "cells": [
  {
   "cell_type": "markdown",
   "id": "4fc1dd28",
   "metadata": {},
   "source": [
    "# Annex GG Full Demo — Simulation Workflow (Detectability Curves)\n",
    "\n",
    "This notebook runs the complete Annex GG‑style workflow end‑to‑end using synthetic but realistic data that mimics an adult chest with a titanium spinal rod.  \n",
    "It computes CHO decision values, **AUC vs. Dose**, **AUC vs. Contrast**, performs a **paired one‑tailed t‑test**, and reports **ΔAUC (MAR–FBP)** statistics.\n",
    "\n",
    "> This demo prefers **detectability curves** (AUC vs. dose/contrast), not heatmaps.\n"
   ]
  },
  {
   "cell_type": "code",
   "execution_count": null,
   "id": "71e3ba2b",
   "metadata": {},
   "outputs": [],
   "source": [
    "import os, yaml, numpy as np, matplotlib.pyplot as plt, pandas as pd\n",
    "from pathlib import Path\n",
    "\n",
    "from mareval import (\n",
    "    generate_synthetic_study, extract_roi,\n",
    "    build_pca_channels, apply_channels, cho_template, cho_decision_values,\n",
    "    compute_auc_ci, paired_ttest_one_tailed,\n",
    ")\n",
    "\n",
    "import warnings\n",
    "warnings.filterwarnings(\"ignore\")\n",
    "%matplotlib inline"
   ]
  },
  {
   "cell_type": "markdown",
   "id": "1c787de4",
   "metadata": {},
   "source": [
    "## 1) Load Configuration"
   ]
  },
  {
   "cell_type": "code",
   "execution_count": null,
   "id": "67fde97f",
   "metadata": {},
   "outputs": [],
   "source": [
    "# Try to load repo config; fall back to defaults\n",
    "cfg_candidates = [\n",
    "    Path('configs')/'adult_chest_spinal_rod.yaml',\n",
    "    Path('../configs')/'adult_chest_spinal_rod.yaml',\n",
    "]\n",
    "cfg = None\n",
    "for p in cfg_candidates:\n",
    "    if p.exists():\n",
    "        with open(p, 'r') as f:\n",
    "            cfg = yaml.safe_load(f)\n",
    "        print(f\"Loaded config: {p}\")\n",
    "        break\n",
    "\n",
    "if cfg is None:\n",
    "    print(\"Config not found; using defaults.\")\n",
    "    cfg = {\n",
    "        'image_shape': [128, 128],\n",
    "        'lesion_radius_px': 3,\n",
    "        'doses': 11,\n",
    "        'contrasts': 7,\n",
    "        'realizations': 10,\n",
    "        'recon_types': ['FBP', 'MAR'],\n",
    "        'classes': ['absent', 'present'],\n",
    "        'base_bg_mean': 1000.0,\n",
    "        'base_bg_std': 20.0,\n",
    "        'dose_noise_scale': 1.0,\n",
    "        'contrast_min': 1.0,\n",
    "        'contrast_max': 1.06,\n",
    "        'rng_seed': 7,\n",
    "        'roi_size': [25, 25],\n",
    "        'channels': 16,\n",
    "        'lambda_reg': 1e-3,\n",
    "    }\n",
    "\n",
    "out_dir = Path('outputs')\n",
    "out_dir_exists = out_dir.exists()\n",
    "print(f\"outputs/ exists: {out_dir_exists}\")\n",
    "cfg"
   ]
  },
  {
   "cell_type": "markdown",
   "id": "ece643d8",
   "metadata": {},
   "source": [
    "## 2) Generate Synthetic Study"
   ]
  },
  {
   "cell_type": "code",
   "execution_count": null,
   "id": "ec79afc3",
   "metadata": {},
   "outputs": [],
   "source": [
    "study = generate_synthetic_study(cfg)\n",
    "dose_levels = study['dose_levels']\n",
    "contrast_levels = study['contrast_levels']\n",
    "images = study['images']\n",
    "roi_centers = study['roi_centers']\n",
    "\n",
    "print('N dose:', len(dose_levels), 'N contrast:', len(contrast_levels))\n",
    "print('Example key count:', len(images))"
   ]
  },
  {
   "cell_type": "markdown",
   "id": "cd92a835",
   "metadata": {},
   "source": [
    "## 3) Visualize & Extract Training ROIs for Channels"
   ]
  },
  {
   "cell_type": "code",
   "execution_count": null,
   "id": "e1a70e43",
   "metadata": {},
   "outputs": [],
   "source": [
    "# Preview a couple of slices and the ROI box\n",
    "roi_size = tuple(cfg['roi_size'])\n",
    "im_keys = [\n",
    "    (0, 0, 0, 'FBP', 'present'),\n",
    "    (10, 6, 0, 'MAR', 'absent'),\n",
    "]\n",
    "\n",
    "fig, axes = plt.subplots(1, len(im_keys), figsize=(8, 4))\n",
    "for ax, k in zip(axes, im_keys):\n",
    "    ax.imshow(images[k], cmap='gray')\n",
    "    cy, cx = roi_centers[0]\n",
    "    h, w = roi_size\n",
    "    rect = plt.Rectangle((cx - w//2, cy - h//2), w, h, fill=False, linewidth=1.5)\n",
    "    ax.add_patch(rect)\n",
    "    ax.set_title(str(k))\n",
    "    ax.axis('off')\n",
    "plt.show()\n",
    "\n",
    "# Build a small training set (mix of conditions) and extract ROIs\n",
    "train_imgs = [images[(0, 0, r, 'FBP', 'absent')] for r in range(3)] +              [images[(10, 6, r, 'MAR', 'absent')] for r in range(3)]\n",
    "\n",
    "def extract_roi_single(image, center, size):\n",
    "    return extract_roi(image, center, size)\n",
    "\n",
    "train_rois = [extract_roi_single(im, roi_centers[0], roi_size).ravel() for im in train_imgs]\n",
    "train_rois = np.vstack(train_rois)\n",
    "train_rois.shape"
   ]
  },
  {
   "cell_type": "markdown",
   "id": "301cd474",
   "metadata": {},
   "source": [
    "## 4) Build PCA Channels & CHO Template"
   ]
  },
  {
   "cell_type": "code",
   "execution_count": null,
   "id": "611c2ec7",
   "metadata": {},
   "outputs": [],
   "source": [
    "U = build_pca_channels(train_rois, n_channels=int(cfg['channels']), whiten=True, random_state=0)\n",
    "\n",
    "def build_cell_data(d, j, recon):\n",
    "    pos = [extract_roi_single(images[(d, j, r, recon, 'present')], roi_centers[0], roi_size).ravel()\n",
    "           for r in range(cfg['realizations'])]\n",
    "    neg = [extract_roi_single(images[(d, j, r, recon, 'absent')],  roi_centers[0], roi_size).ravel()\n",
    "           for r in range(cfg['realizations'])]\n",
    "    return np.asarray(pos), np.asarray(neg)\n",
    "\n",
    "# Example cell preview\n",
    "pos_fbp, neg_fbp = build_cell_data(10, 6, 'FBP')\n",
    "ch_pos = apply_channels(pos_fbp, U)\n",
    "ch_neg = apply_channels(neg_fbp, U)\n",
    "w = cho_template(ch_pos, ch_neg, lambda_reg=float(cfg.get('lambda_reg', 1e-3)))\n",
    "w.shape"
   ]
  },
  {
   "cell_type": "markdown",
   "id": "96cbb93b",
   "metadata": {},
   "source": [
    "## 5) Detectability Curves (AUC vs. Dose, AUC vs. Contrast)"
   ]
  },
  {
   "cell_type": "code",
   "execution_count": null,
   "id": "2b236f21",
   "metadata": {},
   "outputs": [],
   "source": [
    "# Compute AUC grid for both recon types using per-cell CHO templates\n",
    "auc_fb  = np.zeros((len(dose_levels), len(contrast_levels)))\n",
    "auc_mar = np.zeros_like(auc_fb)\n",
    "\n",
    "for id_d, d in enumerate(dose_levels):\n",
    "    for id_c, _ in enumerate(contrast_levels):\n",
    "        # FBP\n",
    "        pos, neg = build_cell_data(d, id_c, 'FBP')\n",
    "        ch_pos = apply_channels(pos, U)\n",
    "        ch_neg = apply_channels(neg, U)\n",
    "        w = cho_template(ch_pos, ch_neg, lambda_reg=float(cfg.get('lambda_reg', 1e-3)))\n",
    "        dv = np.concatenate([cho_decision_values(ch_pos, w), cho_decision_values(ch_neg, w)])\n",
    "        labels = np.concatenate([np.ones(len(pos)), np.zeros(len(neg))])\n",
    "        auc_fb[id_d, id_c] = float(compute_auc_ci(dv, labels)['auc'])\n",
    "\n",
    "        # MAR\n",
    "        pos, neg = build_cell_data(d, id_c, 'MAR')\n",
    "        ch_pos = apply_channels(pos, U)\n",
    "        ch_neg = apply_channels(neg, U)\n",
    "        w = cho_template(ch_pos, ch_neg, lambda_reg=float(cfg.get('lambda_reg', 1e-3)))\n",
    "        dv = np.concatenate([cho_decision_values(ch_pos, w), cho_decision_values(ch_neg, w)])\n",
    "        labels = np.concatenate([np.ones(len(pos)), np.zeros(len(neg))])\n",
    "        auc_mar[id_d, id_c] = float(compute_auc_ci(dv, labels)['auc'])\n",
    "\n",
    "# AUC vs Dose (averaged over contrast)\n",
    "mean_auc_fb_dose  = auc_fb.mean(axis=1)\n",
    "mean_auc_mar_dose = auc_mar.mean(axis=1)\n",
    "\n",
    "plt.figure(figsize=(6,4))\n",
    "plt.plot(dose_levels, mean_auc_fb_dose, marker='o', label='FBP')\n",
    "plt.plot(dose_levels, mean_auc_mar_dose, marker='o', label='MAR')\n",
    "plt.xlabel('Dose (arb. units)')\n",
    "plt.ylabel('AUC (CHO)')\n",
    "plt.title('Detectability vs Dose (averaged over contrast)')\n",
    "plt.ylim(0.5, 1.0)\n",
    "plt.grid(True, alpha=0.3)\n",
    "plt.legend()\n",
    "plt.show()\n",
    "\n",
    "# AUC vs Contrast (averaged over dose)\n",
    "mean_auc_fb_con  = auc_fb.mean(axis=0)\n",
    "mean_auc_mar_con = auc_mar.mean(axis=0)\n",
    "contr_vals = np.array(contrast_levels)\n",
    "\n",
    "plt.figure(figsize=(6,4))\n",
    "plt.plot(contr_vals, mean_auc_fb_con, marker='o', label='FBP')\n",
    "plt.plot(contr_vals, mean_auc_mar_con, marker='o', label='MAR')\n",
    "plt.xlabel('Signal Contrast (× background)')\n",
    "plt.ylabel('AUC (CHO)')\n",
    "plt.title('Detectability vs Contrast (averaged over dose)')\n",
    "plt.ylim(0.5, 1.0)\n",
    "plt.grid(True, alpha=0.3)\n",
    "plt.legend()\n",
    "plt.show()"
   ]
  },
  {
   "cell_type": "markdown",
   "id": "0ee4c229",
   "metadata": {},
   "source": [
    "## 6) Statistical Comparison & ΔAUC"
   ]
  },
  {
   "cell_type": "code",
   "execution_count": null,
   "id": "1ea8d2b1",
   "metadata": {},
   "outputs": [],
   "source": [
    "# Paired one-tailed t-test over the whole grid\n",
    "delta_mean, p_val = paired_ttest_one_tailed(auc_mar.ravel(), auc_fb.ravel())\n",
    "ΔAUC = auc_mar - auc_fb\n",
    "bias_summary = {\n",
    "    'delta_auc_mean': float(delta_mean),\n",
    "    'p_value_one_tailed': float(p_val),\n",
    "    'status': 'improved' if delta_mean > 0 else ('worse' if delta_mean < 0 else 'no_change')\n",
    "}\n",
    "bias_summary"
   ]
  },
  {
   "cell_type": "markdown",
   "id": "8b15a8e4",
   "metadata": {},
   "source": [
    "## 7) Save CSV Summaries (optional)"
   ]
  },
  {
   "cell_type": "code",
   "execution_count": null,
   "id": "e849a6b1",
   "metadata": {},
   "outputs": [],
   "source": [
    "from pathlib import Path\n",
    "out_dir = Path('outputs')\n",
    "if out_dir.exists():\n",
    "    import numpy as np, pandas as pd\n",
    "    df_fb = pd.DataFrame(auc_fb, index=dose_levels, columns=np.round(contrast_levels, 3))\n",
    "    df_mar = pd.DataFrame(auc_mar, index=dose_levels, columns=np.round(contrast_levels, 3))\n",
    "    df_delta = pd.DataFrame(ΔAUC, index=dose_levels, columns=np.round(contrast_levels, 3))\n",
    "\n",
    "    df_fb.to_csv(out_dir/'auc_fbp.csv')\n",
    "    df_mar.to_csv(out_dir/'auc_mar.csv')\n",
    "    df_delta.to_csv(out_dir/'delta_auc.csv')\n",
    "    print(\"Saved: outputs/auc_fbp.csv, outputs/auc_mar.csv, outputs/delta_auc.csv\")\n",
    "else:\n",
    "    print(\"outputs/ not present; skipping CSV export.\")"
   ]
  }
 ],
 "metadata": {},
 "nbformat": 4,
 "nbformat_minor": 5
}
