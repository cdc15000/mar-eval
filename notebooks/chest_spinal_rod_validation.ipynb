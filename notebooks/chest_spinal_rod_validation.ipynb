import yaml
from pathlib import Path
import numpy as np
from mareval.grid import make_condition_grid
from mareval.io_sim import load_simulation_manifest  # or your own loader
from mareval.roi import extract_rois_from_images
from mareval.cho import fit_cho, cho_decision_values
from mareval.stats import compute_auc, compare_auc_paired, bias_assessment
from mareval.reporting import write_condition_results, write_summary
from mareval.viz import plot_auc_matrix, plot_roc, plot_distribution

cfg = yaml.safe_load(Path("../configs/chest_spinal_rod.yaml").read_text())

# 1) Build conditions grid (dose × contrast × recon × class × realizations)
grid = make_condition_grid(cfg["grid"])

# 2) Load (or assemble) dataset manifest for this scenario
manifest = load_simulation_manifest(cfg["paths"], grid)

# 3) Extract ROIs (background & lesion) as row vectors g ∈ R^q
roi_table = extract_rois_from_images(manifest, cfg["roi"])

# 4) Train CHO (e.g., PCA channels + Hotelling template with pooled covariance)
cho = fit_cho(roi_table, channels=cfg["task"]["channels"], n_channels=cfg["task"]["n_channels"],
              reg=cfg["task"]["regularization"])

# 5) Score decision values across all conditions
scores = cho_decision_values(cho, roi_table)

# 6) Compute AUCs + CI per condition; compare MAR vs FBP; do bias assessment
results = []
for cond in grid["conditions"]:
    # slice data by condition (dose, contrast, recon, class)
    dv, labels = scores.slice(cond)  # implement or adapt a small helper for slicing
    auc_info = compute_auc(dv, labels)
    results.append({"cond": cond, **auc_info})

# 7) Optionally: group by (dose, contrast) and compare MAR vs FBP (paired)
#    and compute ΔAUC, p-values, and bias assessment
#    (depends on how you store/structure scores; you can mirror your unified demo)

# 8) Save outputs / figures
Path(cfg["output"]["results_dir"]).mkdir(parents=True, exist_ok=True)
write_condition_results(results, Path(cfg["output"]["results_dir"]) / "per_condition.csv")
write_summary(results, Path(cfg["output"]["results_dir"]) / "summary.json")

# 9) Visuals
plot_auc_matrix(results)              # heatmaps for MAR, FBP, and ΔAUC
