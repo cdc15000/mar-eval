{
 "cells": [
  {
   "cell_type": "markdown",
   "id": "812816c7",
   "metadata": {},
   "source": [
    "# Notebook 3: ΔAUC Bias and One-Tailed Paired Test\n",
    "\n",
    "This notebook computes **ΔAUC** (MAR − Non-MAR) and performs a **one-tailed paired test** over bootstrap replicates, consistent with Annex GG recommendations.\n"
   ]
  },
  {
   "cell_type": "code",
   "execution_count": null,
   "id": "49b7a87e",
   "metadata": {},
   "outputs": [],
   "source": [
    "import numpy as np\n",
    "from sklearn.metrics import roc_auc_score\n",
    "from mareval import compute_auc, bootstrap_auc_difference\n",
    "\n",
    "rng = np.random.default_rng(123)\n",
    "N = 800\n",
    "# Non-MAR dataset\n",
    "x0 = rng.normal(0, 1, size=N)\n",
    "x1 = rng.normal(0.35, 1, size=N)\n",
    "labels = np.r_[np.zeros(N), np.ones(N)]\n",
    "scores_nonmar = np.r_[x0, x1]\n",
    "auc_nonmar = compute_auc(labels, scores_nonmar)\n",
    "\n",
    "# MAR dataset (shifted mean for lesions)\n",
    "y0 = rng.normal(0, 1, size=N)\n",
    "y1 = rng.normal(0.55, 1, size=N)\n",
    "scores_mar = np.r_[y0, y1]\n",
    "auc_mar = compute_auc(labels, scores_mar)\n",
    "\n",
    "print('AUC (Non-MAR):', round(auc_nonmar, 3))\n",
    "print('AUC (MAR):    ', round(auc_mar, 3))\n",
    "\n",
    "# Bootstrap ΔAUC with paired resampling\n",
    "res = bootstrap_auc_difference(labels, scores_mar, scores_nonmar, n_boot=2000, rng=rng)\n",
    "print('\\nΔAUC (mean):', round(res[\"delta_auc_mean\"], 4))\n",
    "print('ΔAUC CI (95%): [{:.4f}, {:.4f}]'.format(res[\"ci_low\"], res[\"ci_high\"]))\n",
    "print('One-tailed p-value (MAR > Non-MAR):', res[\"p_value_one_tailed\"])"
   ]
  },
  {
   "cell_type": "markdown",
   "id": "c0f61118",
   "metadata": {},
   "source": [
    "**Interpretation (per Annex GG):**\n",
    "\n",
    "- **ΔAUC (bias)**: positive values indicate improved lesion detectability with MAR.\n",
    "- **One-tailed paired test**: tests H₀: ΔAUC ≤ 0 vs H₁: ΔAUC > 0.\n",
    "- Report **ΔAUC**, **95% CI**, and **p-value** alongside scanner/configuration metadata.\n"
   ]
  }
 ],
 "metadata": {},
 "nbformat": 4,
 "nbformat_minor": 5
}
