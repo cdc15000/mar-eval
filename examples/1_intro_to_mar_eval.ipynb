{
 "cells": [
  {
   "cell_type": "markdown",
   "id": "604bb175",
   "metadata": {},
   "source": [
    "# MAR-EVAL Examples — Notebook 1: Introduction\n",
    "\n",
    "This notebook introduces the **mar-eval** toolkit and demonstrates a minimal end-to-end run using Annex GG terminology:\n",
    "\n",
    "- **CHO**: Channelized Hotelling Observer\n",
    "- **AUC**: Area Under the ROC Curve\n",
    "- **ΔAUC (bias)**: difference in AUC between MAR and Non-MAR\n",
    "\n",
    "We'll generate simple synthetic lesion-present/absent channel outputs, compute decision variables with CHO, estimate AUC via scikit-learn, and preview the evaluation workflow.\n"
   ]
  },
  {
   "cell_type": "code",
   "execution_count": null,
   "id": "3ba6bfae",
   "metadata": {},
   "outputs": [],
   "source": [
    "import numpy as np\n",
    "from sklearn.metrics import roc_auc_score, roc_curve\n",
    "from mareval import compute_auc, cho_decision_values\n",
    "\n",
    "rng = np.random.default_rng(42)\n",
    "N = 500\n",
    "# Synthetic channel outputs (2 channels) for non-MAR and MAR\n",
    "x0 = rng.normal(0, 1, size=(N, 2))  # non-lesion\n",
    "x1 = rng.normal([0.4, 0.2], 1, size=(N, 2))  # lesion\n",
    "\n",
    "# CHO decision values (simple w from class means)\n",
    "w = (x1.mean(0) - x0.mean(0))\n",
    "nonmar_scores = cho_decision_values(np.vstack([x0, x1]), w)\n",
    "labels = np.array([0]*N + [1]*N)\n",
    "auc_nonmar = compute_auc(labels, nonmar_scores)\n",
    "print('AUC (non-MAR):', round(auc_nonmar, 3))\n",
    "\n",
    "# Simulate MAR improving separation\n",
    "x0_mar = rng.normal(0, 1, size=(N, 2))\n",
    "x1_mar = rng.normal([0.6, 0.35], 1, size=(N, 2))\n",
    "w_mar = (x1_mar.mean(0) - x0_mar.mean(0))\n",
    "mar_scores = cho_decision_values(np.vstack([x0_mar, x1_mar]), w_mar)\n",
    "auc_mar = compute_auc(labels, mar_scores)\n",
    "print('AUC (MAR):    ', round(auc_mar, 3))\n",
    "print('ΔAUC (bias):  ', round(auc_mar - auc_nonmar, 3))\n"
   ]
  },
  {
   "cell_type": "markdown",
   "id": "2dda011a",
   "metadata": {},
   "source": [
    "**Notes (Annex GG references):**\n",
    "\n",
    "- *CHO decision variable* is computed as **wᵀx**, where **w** are channel weights.\n",
    "- *AUC* summarizes lesion-detection performance for the specified task.\n",
    "- *Bias (ΔAUC)* is the improvement with MAR relative to non-MAR.\n"
   ]
  }
 ],
 "metadata": {},
 "nbformat": 4,
 "nbformat_minor": 5
}
